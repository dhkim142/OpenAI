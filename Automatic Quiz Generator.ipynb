{
 "cells": [
  {
   "cell_type": "code",
   "execution_count": null,
   "id": "bc7e1e86-04a0-4090-8c39-96ec04246b12",
   "metadata": {},
   "outputs": [],
   "source": [
    "!pip install openai"
   ]
  },
  {
   "cell_type": "code",
   "execution_count": 140,
   "id": "9e936583-bcf9-4b42-91ec-7efbbaa27d65",
   "metadata": {},
   "outputs": [],
   "source": [
    "import pandas as pd\n",
    "import os\n",
    "from openai import OpenAI"
   ]
  },
  {
   "cell_type": "code",
   "execution_count": 142,
   "id": "2f488047-2b4a-4bb5-bcf9-5c2b4a8eff0f",
   "metadata": {},
   "outputs": [],
   "source": [
    "os.environ['OPENAI_API_KEY'] = 'sk-FkbJS3_PF98_3I0IBkOHhfjHagTwrPRsGDDde5nWO3T3BlbkFJG2NGzGeCtJ_lF9wjZEw77aF4sE9x7vsGh7RDqURV4A'\n",
    "\n",
    "client = OpenAI()"
   ]
  },
  {
   "cell_type": "code",
   "execution_count": 143,
   "id": "c979513d-cf35-4966-a204-4e2fe942cba2",
   "metadata": {},
   "outputs": [],
   "source": [
    "def create_system_prompt():\n",
    "    return \"Generate a multiple-choice question on the specific topic. Include a list of possible answers and indicate the correct answer seperately. \"\n",
    "\n",
    "def create_test_prompt(topic, num_questions, num_options):\n",
    "    return f\"Topic: {topic}. For each of the {num_questions} multiple-choice questions, provide {num_options} options. After the options, type '[Correct Answer]:' followed by the correct option.\""
   ]
  },
  {
   "cell_type": "code",
   "execution_count": 146,
   "id": "b9ac2aee-9eb2-4226-88b7-e292926fb68a",
   "metadata": {},
   "outputs": [],
   "source": [
    "response = client.chat.completions.create(\n",
    "    model ='gpt-3.5-turbo',\n",
    "    messages = [\n",
    "        {\"role\": \"system\", \"content\": \"Generate a multiple_choice question on the specific topic.\\\n",
    "                                        Each question start with question number such as Question 1:\\\n",
    "                                        Include a list of possible answers and indicate the correct answer separately with '[Correct Answer]:'. \\\n",
    "                                        Format the question, option, and answer clearly.\"},\n",
    "        {\"role\": \"user\", \"content\": create_test_prompt(\"Python Programming\", 5, 4)},\n",
    "    ]\n",
    ")"
   ]
  },
  {
   "cell_type": "code",
   "execution_count": 147,
   "id": "35de7cc6-840d-4c26-a62c-7feaecb53de5",
   "metadata": {},
   "outputs": [
    {
     "data": {
      "text/plain": [
       "ChatCompletion(id='chatcmpl-A9NMgNSa7StlRfuk776wUD3FazEgP', choices=[Choice(finish_reason='stop', index=0, logprobs=None, message=ChatCompletionMessage(content='Question 1: \\nWhich data type is immutable in Python? \\nA) List \\nB) Dictionary \\nC) Tuple \\nD) Set \\n[Correct Answer]: C) Tuple\\n\\nQuestion 2: \\nWhat keyword is used to define a function in Python? \\nA) var \\nB) func \\nC) def \\nD) define \\n[Correct Answer]: C) def\\n\\nQuestion 3: \\nWhat is the output of the following code snippet: print(3 == 3.0)? \\nA) True \\nB) False \\nC) Error \\nD) None \\n[Correct Answer]: A) True\\n\\nQuestion 4: \\nWhich of the following is not a valid way to comment in Python? \\nA) // This is a comment \\nB) # This is a comment \\nC) \\'\\'\\' This is a comment \\'\\'\\' \\nD) \"\"\" This is a comment \"\"\" \\n[Correct Answer]: A) // This is a comment\\n\\nQuestion 5: \\nWhat does the \\'len()\\' function do in Python? \\nA) Returns the last element of a list \\nB) Returns the total number of characters in a string \\nC) Returns the length of an object \\nD) Returns the maximum value in a list \\n[Correct Answer]: C) Returns the length of an object', refusal=None, role='assistant', function_call=None, tool_calls=None))], created=1726798130, model='gpt-3.5-turbo-0125', object='chat.completion', service_tier=None, system_fingerprint=None, usage=CompletionUsage(completion_tokens=264, prompt_tokens=100, total_tokens=364, completion_tokens_details=CompletionTokensDetails(reasoning_tokens=0)))"
      ]
     },
     "execution_count": 147,
     "metadata": {},
     "output_type": "execute_result"
    }
   ],
   "source": [
    "response"
   ]
  },
  {
   "cell_type": "code",
   "execution_count": 148,
   "id": "00fadc4f-b1a0-4505-a971-ba63cd63bf20",
   "metadata": {},
   "outputs": [
    {
     "name": "stdout",
     "output_type": "stream",
     "text": [
      "Question 1: \n",
      "Which data type is immutable in Python? \n",
      "A) List \n",
      "B) Dictionary \n",
      "C) Tuple \n",
      "D) Set \n",
      "[Correct Answer]: C) Tuple\n",
      "\n",
      "Question 2: \n",
      "What keyword is used to define a function in Python? \n",
      "A) var \n",
      "B) func \n",
      "C) def \n",
      "D) define \n",
      "[Correct Answer]: C) def\n",
      "\n",
      "Question 3: \n",
      "What is the output of the following code snippet: print(3 == 3.0)? \n",
      "A) True \n",
      "B) False \n",
      "C) Error \n",
      "D) None \n",
      "[Correct Answer]: A) True\n",
      "\n",
      "Question 4: \n",
      "Which of the following is not a valid way to comment in Python? \n",
      "A) // This is a comment \n",
      "B) # This is a comment \n",
      "C) ''' This is a comment ''' \n",
      "D) \"\"\" This is a comment \"\"\" \n",
      "[Correct Answer]: A) // This is a comment\n",
      "\n",
      "Question 5: \n",
      "What does the 'len()' function do in Python? \n",
      "A) Returns the last element of a list \n",
      "B) Returns the total number of characters in a string \n",
      "C) Returns the length of an object \n",
      "D) Returns the maximum value in a list \n",
      "[Correct Answer]: C) Returns the length of an object\n"
     ]
    }
   ],
   "source": [
    "print(response.choices[0].message.content)"
   ]
  },
  {
   "cell_type": "code",
   "execution_count": 149,
   "id": "6a18d302-4821-46af-9b14-4c67bcd90bbc",
   "metadata": {},
   "outputs": [],
   "source": [
    "# separate an answer from question and save\n",
    "def parse_student_view_and_answers(response):\n",
    "\n",
    "    # initialize a dictionary\n",
    "    student_view = {} # save some quetions and options that students see\n",
    "    correct_answers = {} # save the answer from each question\n",
    "\n",
    "    pattern = r\"(Question \\d+:) | (\\\\n\\\\n\\[Correct Answer\\]:)\"\n",
    "    question_blocks = re.split(pattern, response.choices[0].message.content)\n",
    "\n",
    "    # Initialize the question number to 0. The reason I do this is to track the question number\n",
    "    question_number = 0\n",
    "    for block in question_blocks: #iterate through each block\n",
    "        if not block or block.startswith(\"[Correct Answer]:\"):\n",
    "            continue\n",
    "        if block.startswith(\"Question\"): #If a block starts with a question, increase the question_number.\n",
    "            question_number += 1\n",
    "            continue\n",
    "\n",
    "        # Separate question, option and answer from each block\n",
    "        parts = block.split(\"[Correct Answer]:\")\n",
    "        question_with_options = parts[0].strip()\n",
    "        correct_answer = parts[1].strip() if len(parts) > 1 else \"Not provided\"\n",
    "\n",
    "        # save the student_view and the correct_answer in each dictionary \n",
    "        student_view[question_number] = question_with_options\n",
    "        correct_answers[question_number] = correct_answer\n",
    "\n",
    "    return student_view, correct_answers"
   ]
  },
  {
   "cell_type": "code",
   "execution_count": 150,
   "id": "df88765b-658d-4935-83b2-a23b3ef4a205",
   "metadata": {},
   "outputs": [],
   "source": [
    "import re\n",
    "student_view, correct_answers = parse_student_view_and_answers(response)"
   ]
  },
  {
   "cell_type": "code",
   "execution_count": 151,
   "id": "b98624ac-b271-456c-86ef-78f105cc2cae",
   "metadata": {},
   "outputs": [
    {
     "data": {
      "text/plain": [
       "{1: 'Which data type is immutable in Python? \\nA) List \\nB) Dictionary \\nC) Tuple \\nD) Set',\n",
       " 2: 'What keyword is used to define a function in Python? \\nA) var \\nB) func \\nC) def \\nD) define',\n",
       " 3: 'What is the output of the following code snippet: print(3 == 3.0)? \\nA) True \\nB) False \\nC) Error \\nD) None',\n",
       " 4: 'Which of the following is not a valid way to comment in Python? \\nA) // This is a comment \\nB) # This is a comment \\nC) \\'\\'\\' This is a comment \\'\\'\\' \\nD) \"\"\" This is a comment \"\"\"',\n",
       " 5: \"What does the 'len()' function do in Python? \\nA) Returns the last element of a list \\nB) Returns the total number of characters in a string \\nC) Returns the length of an object \\nD) Returns the maximum value in a list\"}"
      ]
     },
     "execution_count": 151,
     "metadata": {},
     "output_type": "execute_result"
    }
   ],
   "source": [
    "student_view"
   ]
  },
  {
   "cell_type": "code",
   "execution_count": 152,
   "id": "e4836cae-d7b4-45db-a8cb-3fa2a0257639",
   "metadata": {},
   "outputs": [
    {
     "data": {
      "text/plain": [
       "{1: 'C) Tuple',\n",
       " 2: 'C) def',\n",
       " 3: 'A) True',\n",
       " 4: 'A) // This is a comment',\n",
       " 5: 'C) Returns the length of an object'}"
      ]
     },
     "execution_count": 152,
     "metadata": {},
     "output_type": "execute_result"
    }
   ],
   "source": [
    "correct_answers"
   ]
  },
  {
   "cell_type": "markdown",
   "id": "2f026290-2488-4916-800c-43de676a0264",
   "metadata": {},
   "source": [
    "## Test question excepted answer"
   ]
  },
  {
   "cell_type": "code",
   "execution_count": 154,
   "id": "685385b0-7ef2-44d5-939d-a027c15c9773",
   "metadata": {},
   "outputs": [
    {
     "name": "stdout",
     "output_type": "stream",
     "text": [
      "Question 1:\n",
      "Which data type is immutable in Python? \n",
      "A) List \n",
      "B) Dictionary \n",
      "C) Tuple \n",
      "D) Set\n",
      "\n",
      "Question 2:\n",
      "What keyword is used to define a function in Python? \n",
      "A) var \n",
      "B) func \n",
      "C) def \n",
      "D) define\n",
      "\n",
      "Question 3:\n",
      "What is the output of the following code snippet: print(3 == 3.0)? \n",
      "A) True \n",
      "B) False \n",
      "C) Error \n",
      "D) None\n",
      "\n",
      "Question 4:\n",
      "Which of the following is not a valid way to comment in Python? \n",
      "A) // This is a comment \n",
      "B) # This is a comment \n",
      "C) ''' This is a comment ''' \n",
      "D) \"\"\" This is a comment \"\"\"\n",
      "\n",
      "Question 5:\n",
      "What does the 'len()' function do in Python? \n",
      "A) Returns the last element of a list \n",
      "B) Returns the total number of characters in a string \n",
      "C) Returns the length of an object \n",
      "D) Returns the maximum value in a list\n",
      "\n"
     ]
    }
   ],
   "source": [
    "for q_num, question_content in student_view.items():\n",
    "    print(f\"Question {q_num}:\\n{question_content}\\n\")"
   ]
  },
  {
   "cell_type": "markdown",
   "id": "ae12e796-00e6-4f54-ac9b-c4811ec83d4d",
   "metadata": {},
   "source": [
    "## Simulation(from the student's point of view)"
   ]
  },
  {
   "cell_type": "code",
   "execution_count": 164,
   "id": "564854d6-ac32-4b37-a7a4-8af3c1465e11",
   "metadata": {},
   "outputs": [
    {
     "name": "stdout",
     "output_type": "stream",
     "text": [
      "Question 1:\n",
      "Which data type is immutable in Python? \n",
      "A) List \n",
      "B) Dictionary \n",
      "C) Tuple \n",
      "D) Set\n",
      "\n"
     ]
    },
    {
     "name": "stdin",
     "output_type": "stream",
     "text": [
      "Put your answer (example, A,B,C,D):  A\n"
     ]
    },
    {
     "name": "stdout",
     "output_type": "stream",
     "text": [
      "\n",
      "\n",
      "Question 2:\n",
      "What keyword is used to define a function in Python? \n",
      "A) var \n",
      "B) func \n",
      "C) def \n",
      "D) define\n",
      "\n"
     ]
    },
    {
     "name": "stdin",
     "output_type": "stream",
     "text": [
      "Put your answer (example, A,B,C,D):  C\n"
     ]
    },
    {
     "name": "stdout",
     "output_type": "stream",
     "text": [
      "\n",
      "\n",
      "Question 3:\n",
      "What is the output of the following code snippet: print(3 == 3.0)? \n",
      "A) True \n",
      "B) False \n",
      "C) Error \n",
      "D) None\n",
      "\n"
     ]
    },
    {
     "name": "stdin",
     "output_type": "stream",
     "text": [
      "Put your answer (example, A,B,C,D):  D\n"
     ]
    },
    {
     "name": "stdout",
     "output_type": "stream",
     "text": [
      "\n",
      "\n",
      "Question 4:\n",
      "Which of the following is not a valid way to comment in Python? \n",
      "A) // This is a comment \n",
      "B) # This is a comment \n",
      "C) ''' This is a comment ''' \n",
      "D) \"\"\" This is a comment \"\"\"\n",
      "\n"
     ]
    },
    {
     "name": "stdin",
     "output_type": "stream",
     "text": [
      "Put your answer (example, A,B,C,D):  A\n"
     ]
    },
    {
     "name": "stdout",
     "output_type": "stream",
     "text": [
      "\n",
      "\n",
      "Question 5:\n",
      "What does the 'len()' function do in Python? \n",
      "A) Returns the last element of a list \n",
      "B) Returns the total number of characters in a string \n",
      "C) Returns the length of an object \n",
      "D) Returns the maximum value in a list\n",
      "\n"
     ]
    },
    {
     "name": "stdin",
     "output_type": "stream",
     "text": [
      "Put your answer (example, A,B,C,D):  B\n"
     ]
    },
    {
     "name": "stdout",
     "output_type": "stream",
     "text": [
      "\n",
      "\n"
     ]
    }
   ],
   "source": [
    "student_answers = {} # save the student's answer\n",
    "\n",
    "for q_num, question_content in student_view.items():\n",
    "    print(f\"Question {q_num}:\\n{question_content}\\n\")\n",
    "\n",
    "    answer =input(\"Put your answer (example, A,B,C,D): \")\n",
    "    student_answers[q_num] = answer\n",
    "    print(\"\\n\")"
   ]
  },
  {
   "cell_type": "markdown",
   "id": "7e958fb3-bc6a-4327-a6b7-c7270de21fd6",
   "metadata": {},
   "source": [
    "## Review the submmited answers"
   ]
  },
  {
   "cell_type": "code",
   "execution_count": 166,
   "id": "f424af6f-ddcf-465e-848b-b8f6bc44cf31",
   "metadata": {},
   "outputs": [
    {
     "name": "stdout",
     "output_type": "stream",
     "text": [
      "Review the submmited answers\n",
      "Question 1:\n",
      "Which data type is immutable in Python? \n",
      "A) List \n",
      "B) Dictionary \n",
      "C) Tuple \n",
      "D) Set\n",
      "\n",
      "Your answer: A\n",
      "\n",
      "Question 2:\n",
      "What keyword is used to define a function in Python? \n",
      "A) var \n",
      "B) func \n",
      "C) def \n",
      "D) define\n",
      "\n",
      "Your answer: C\n",
      "\n",
      "Question 3:\n",
      "What is the output of the following code snippet: print(3 == 3.0)? \n",
      "A) True \n",
      "B) False \n",
      "C) Error \n",
      "D) None\n",
      "\n",
      "Your answer: D\n",
      "\n",
      "Question 4:\n",
      "Which of the following is not a valid way to comment in Python? \n",
      "A) // This is a comment \n",
      "B) # This is a comment \n",
      "C) ''' This is a comment ''' \n",
      "D) \"\"\" This is a comment \"\"\"\n",
      "\n",
      "Your answer: A\n",
      "\n",
      "Question 5:\n",
      "What does the 'len()' function do in Python? \n",
      "A) Returns the last element of a list \n",
      "B) Returns the total number of characters in a string \n",
      "C) Returns the length of an object \n",
      "D) Returns the maximum value in a list\n",
      "\n",
      "Your answer: B\n",
      "\n",
      "---------------------------\n"
     ]
    }
   ],
   "source": [
    "print(\"Review the submmited answers\")\n",
    "\n",
    "for q_num, question_content in student_view.items():\n",
    "    print(f\"Question {q_num}:\\n{question_content}\\n\")\n",
    "    print(f\"Your answer: {student_answers[q_num]}\\n\")\n",
    "\n",
    "print(\"---------------------------\")"
   ]
  },
  {
   "cell_type": "code",
   "execution_count": 168,
   "id": "246c5510-9d6e-46c9-b13f-f7731cdb5553",
   "metadata": {},
   "outputs": [
    {
     "data": {
      "text/plain": [
       "{1: 'C) Tuple',\n",
       " 2: 'C) def',\n",
       " 3: 'A) True',\n",
       " 4: 'A) // This is a comment',\n",
       " 5: 'C) Returns the length of an object'}"
      ]
     },
     "execution_count": 168,
     "metadata": {},
     "output_type": "execute_result"
    }
   ],
   "source": [
    "correct_answers"
   ]
  },
  {
   "cell_type": "code",
   "execution_count": 170,
   "id": "844f90ac-6b4e-489d-9aae-1b323d6025a1",
   "metadata": {},
   "outputs": [
    {
     "data": {
      "text/plain": [
       "'A'"
      ]
     },
     "execution_count": 170,
     "metadata": {},
     "output_type": "execute_result"
    }
   ],
   "source": [
    "student_answers[1][0]"
   ]
  },
  {
   "cell_type": "code",
   "execution_count": 172,
   "id": "3277e5fa-5d9d-426c-a7fa-03e5513375bd",
   "metadata": {},
   "outputs": [
    {
     "data": {
      "text/plain": [
       "dict_items([(1, 'C) Tuple'), (2, 'C) def'), (3, 'A) True'), (4, 'A) // This is a comment'), (5, 'C) Returns the length of an object')])"
      ]
     },
     "execution_count": 172,
     "metadata": {},
     "output_type": "execute_result"
    }
   ],
   "source": [
    "correct_answers.items()"
   ]
  },
  {
   "cell_type": "code",
   "execution_count": 179,
   "id": "265d04e7-0747-40a5-a63b-8d4c538b71b6",
   "metadata": {},
   "outputs": [
    {
     "name": "stdout",
     "output_type": "stream",
     "text": [
      "Your score is: 2/5 (40.0%) \n",
      "You failed the exam. You need to retake the exam.\n"
     ]
    }
   ],
   "source": [
    "score = 0\n",
    "\n",
    "for q_num, correct_answer in correct_answers.items():\n",
    "    correct_option_letter = correct_answer[0]\n",
    "\n",
    "    if student_answers[q_num] == correct_option_letter:\n",
    "        score += 1\n",
    "\n",
    "total_questions = len(student_view)\n",
    "percentage_score = (score / total_questions) * 100\n",
    "\n",
    "print(f\"Your score is: {score}/{total_questions} ({percentage_score}%) \")\n",
    "\n",
    "if percentage_score >= 60:\n",
    "    print(\"Congratulation. You passed the exam\")\n",
    "else:\n",
    "    print(\"You failed the exam. You need to retake the exam.\")"
   ]
  },
  {
   "cell_type": "markdown",
   "id": "9b25b78e-ac22-4b03-9d5b-c673617dda92",
   "metadata": {},
   "source": [
    "## modularization"
   ]
  },
  {
   "cell_type": "code",
   "execution_count": 196,
   "id": "4f5f04dc-8386-4a89-b728-247d3232e4d8",
   "metadata": {},
   "outputs": [],
   "source": [
    "def collect_student_answers(student_view):\n",
    "    student_answers = {}  # 딕셔너리 초기화\n",
    "    for q_num, question_content in student_view.items(): \n",
    "        print(f\"Question {q_num}:\\n{question_content}\\n\")\n",
    "        answer = input(\"Put your answer (example, A,B,C,D): \")\n",
    "        student_answers[q_num] = answer\n",
    "        print(\"\\n\")\n",
    "    return student_answers\n",
    "\n",
    "def review_student_answers(student_view, student_answers):\n",
    "    print(\"Review the submmited answers\", \"\\n\")\n",
    "\n",
    "    for q_num, question_content in student_view.items():\n",
    "        print(f\"Question {q_num}:\\n{question_content}\\n\")\n",
    "        print(f\"Your answer: {student_answers[q_num]}\\n\")\n",
    "\n",
    "def grade_exam(correct_answers, student_answers):\n",
    "    score = 0\n",
    "    \n",
    "    for q_num, correct_answer in correct_answers.items():\n",
    "        correct_option_letter = correct_answer[0]\n",
    "    \n",
    "        if student_answers[q_num] == correct_option_letter:\n",
    "            score += 1\n",
    "    \n",
    "    total_questions = len(student_view)\n",
    "    percentage_score = (score / total_questions) * 100\n",
    "    print(f\"Your score is: {score}/{total_questions} ({percentage_score}%) \")\n",
    "\n",
    "    pass_threshold = 60\n",
    "    if percentage_score >= pass_threshold:\n",
    "        print(\"Congratulation. You passed the exam\")\n",
    "    else:\n",
    "        print(\"You failed the exam. You need to retake the exam.\")"
   ]
  },
  {
   "cell_type": "code",
   "execution_count": 198,
   "id": "8bb084e9-095f-49a7-b9dd-506cf3df71e1",
   "metadata": {},
   "outputs": [
    {
     "name": "stdout",
     "output_type": "stream",
     "text": [
      "Question 1:\n",
      "Which data type is immutable in Python? \n",
      "A) List \n",
      "B) Dictionary \n",
      "C) Tuple \n",
      "D) Set\n",
      "\n"
     ]
    },
    {
     "name": "stdin",
     "output_type": "stream",
     "text": [
      "Put your answer (example, A,B,C,D):  C\n"
     ]
    },
    {
     "name": "stdout",
     "output_type": "stream",
     "text": [
      "\n",
      "\n",
      "Question 2:\n",
      "What keyword is used to define a function in Python? \n",
      "A) var \n",
      "B) func \n",
      "C) def \n",
      "D) define\n",
      "\n"
     ]
    },
    {
     "name": "stdin",
     "output_type": "stream",
     "text": [
      "Put your answer (example, A,B,C,D):  A\n"
     ]
    },
    {
     "name": "stdout",
     "output_type": "stream",
     "text": [
      "\n",
      "\n",
      "Question 3:\n",
      "What is the output of the following code snippet: print(3 == 3.0)? \n",
      "A) True \n",
      "B) False \n",
      "C) Error \n",
      "D) None\n",
      "\n"
     ]
    },
    {
     "name": "stdin",
     "output_type": "stream",
     "text": [
      "Put your answer (example, A,B,C,D):  C\n"
     ]
    },
    {
     "name": "stdout",
     "output_type": "stream",
     "text": [
      "\n",
      "\n",
      "Question 4:\n",
      "Which of the following is not a valid way to comment in Python? \n",
      "A) // This is a comment \n",
      "B) # This is a comment \n",
      "C) ''' This is a comment ''' \n",
      "D) \"\"\" This is a comment \"\"\"\n",
      "\n"
     ]
    },
    {
     "name": "stdin",
     "output_type": "stream",
     "text": [
      "Put your answer (example, A,B,C,D):  D\n"
     ]
    },
    {
     "name": "stdout",
     "output_type": "stream",
     "text": [
      "\n",
      "\n",
      "Question 5:\n",
      "What does the 'len()' function do in Python? \n",
      "A) Returns the last element of a list \n",
      "B) Returns the total number of characters in a string \n",
      "C) Returns the length of an object \n",
      "D) Returns the maximum value in a list\n",
      "\n"
     ]
    },
    {
     "name": "stdin",
     "output_type": "stream",
     "text": [
      "Put your answer (example, A,B,C,D):  B\n"
     ]
    },
    {
     "name": "stdout",
     "output_type": "stream",
     "text": [
      "\n",
      "\n",
      "Review the submmited answers \n",
      "\n",
      "Question 1:\n",
      "Which data type is immutable in Python? \n",
      "A) List \n",
      "B) Dictionary \n",
      "C) Tuple \n",
      "D) Set\n",
      "\n",
      "Your answer: C\n",
      "\n",
      "Question 2:\n",
      "What keyword is used to define a function in Python? \n",
      "A) var \n",
      "B) func \n",
      "C) def \n",
      "D) define\n",
      "\n",
      "Your answer: A\n",
      "\n",
      "Question 3:\n",
      "What is the output of the following code snippet: print(3 == 3.0)? \n",
      "A) True \n",
      "B) False \n",
      "C) Error \n",
      "D) None\n",
      "\n",
      "Your answer: C\n",
      "\n",
      "Question 4:\n",
      "Which of the following is not a valid way to comment in Python? \n",
      "A) // This is a comment \n",
      "B) # This is a comment \n",
      "C) ''' This is a comment ''' \n",
      "D) \"\"\" This is a comment \"\"\"\n",
      "\n",
      "Your answer: D\n",
      "\n",
      "Question 5:\n",
      "What does the 'len()' function do in Python? \n",
      "A) Returns the last element of a list \n",
      "B) Returns the total number of characters in a string \n",
      "C) Returns the length of an object \n",
      "D) Returns the maximum value in a list\n",
      "\n",
      "Your answer: B\n",
      "\n",
      "Your score is: 1/5 (20.0%) \n",
      "You failed the exam. You need to retake the exam.\n"
     ]
    }
   ],
   "source": [
    "student_answers = collect_student_answers(student_view)\n",
    "\n",
    "review_student_answers(student_view, student_answers)\n",
    "\n",
    "grade_exam(correct_answers, student_answers)"
   ]
  },
  {
   "cell_type": "code",
   "execution_count": null,
   "id": "f1f5cbb7-b183-4e1e-a10e-c7d4cc10b873",
   "metadata": {},
   "outputs": [],
   "source": []
  }
 ],
 "metadata": {
  "kernelspec": {
   "display_name": "Python 3 (ipykernel)",
   "language": "python",
   "name": "python3"
  },
  "language_info": {
   "codemirror_mode": {
    "name": "ipython",
    "version": 3
   },
   "file_extension": ".py",
   "mimetype": "text/x-python",
   "name": "python",
   "nbconvert_exporter": "python",
   "pygments_lexer": "ipython3",
   "version": "3.12.4"
  }
 },
 "nbformat": 4,
 "nbformat_minor": 5
}
